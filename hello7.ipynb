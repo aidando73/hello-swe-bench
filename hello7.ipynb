{
 "cells": [
  {
   "cell_type": "code",
   "execution_count": 2,
   "metadata": {},
   "outputs": [],
   "source": [
    "from datasets import load_dataset\n",
    "import os\n",
    "\n",
    "swebench = load_dataset('princeton-nlp/SWE-bench_Lite', split='test')\n",
    "\n",
    "# SCRIPT_DIR = os.path.dirname(os.path.abspath(__file__))\n",
    "df = swebench.to_pandas()\n",
    "\n",
    "# Filter out only django instances\n",
    "df_django = df[df['repo'] == 'django/django']"
   ]
  },
  {
   "cell_type": "code",
   "execution_count": 3,
   "metadata": {},
   "outputs": [
    {
     "name": "stdout",
     "output_type": "stream",
     "text": [
      "\n",
      "Instances per Django version:\n",
      "version\n",
      "3.0    15\n",
      "3.1    21\n",
      "3.2    20\n",
      "4.0    19\n",
      "4.1    14\n",
      "4.2    16\n",
      "5.0     9\n",
      "dtype: int64\n"
     ]
    }
   ],
   "source": [
    "# Group by version and count instances per version\n",
    "version_counts = df_django.groupby('version').size()\n",
    "print(\"\\nInstances per Django version:\")\n",
    "print(version_counts)\n"
   ]
  },
  {
   "cell_type": "code",
   "execution_count": 4,
   "metadata": {},
   "outputs": [
    {
     "name": "stdout",
     "output_type": "stream",
     "text": [
      "\n",
      "Instances per Django major version:\n",
      "major_version\n",
      "3    56\n",
      "4    49\n",
      "5     9\n",
      "dtype: int64\n"
     ]
    },
    {
     "name": "stderr",
     "output_type": "stream",
     "text": [
      "/var/folders/nh/48v4vqk50bg3551rcbb00fz40000gn/T/ipykernel_92642/2725189796.py:2: SettingWithCopyWarning: \n",
      "A value is trying to be set on a copy of a slice from a DataFrame.\n",
      "Try using .loc[row_indexer,col_indexer] = value instead\n",
      "\n",
      "See the caveats in the documentation: https://pandas.pydata.org/pandas-docs/stable/user_guide/indexing.html#returning-a-view-versus-a-copy\n",
      "  df_django['major_version'] = df_django['version'].str.split('.').str[0]\n"
     ]
    }
   ],
   "source": [
    "# Extract major version (e.g. '5' from '5.2')\n",
    "df_django['major_version'] = df_django['version'].str.split('.').str[0]\n",
    "\n",
    "# Group by major version and count instances\n",
    "major_version_counts = df_django.groupby('major_version').size()\n",
    "print(\"\\nInstances per Django major version:\")\n",
    "print(major_version_counts)\n"
   ]
  }
 ],
 "metadata": {
  "kernelspec": {
   "display_name": "Python 3",
   "language": "python",
   "name": "python3"
  },
  "language_info": {
   "codemirror_mode": {
    "name": "ipython",
    "version": 3
   },
   "file_extension": ".py",
   "mimetype": "text/x-python",
   "name": "python",
   "nbconvert_exporter": "python",
   "pygments_lexer": "ipython3",
   "version": "3.10.16"
  }
 },
 "nbformat": 4,
 "nbformat_minor": 2
}
